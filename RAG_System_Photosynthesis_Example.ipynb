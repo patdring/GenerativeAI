{
  "nbformat": 4,
  "nbformat_minor": 0,
  "metadata": {
    "colab": {
      "provenance": [],
      "authorship_tag": "ABX9TyPOhz1QY8nRGG0sx9mWfeiQ",
      "include_colab_link": true
    },
    "kernelspec": {
      "name": "python3",
      "display_name": "Python 3"
    },
    "language_info": {
      "name": "python"
    }
  },
  "cells": [
    {
      "cell_type": "markdown",
      "metadata": {
        "id": "view-in-github",
        "colab_type": "text"
      },
      "source": [
        "<a href=\"https://colab.research.google.com/github/patdring/GenerativeAI/blob/main/RAG_System_Photosynthesis_Example.ipynb\" target=\"_parent\"><img src=\"https://colab.research.google.com/assets/colab-badge.svg\" alt=\"Open In Colab\"/></a>"
      ]
    },
    {
      "cell_type": "markdown",
      "source": [
        "# Retrieval-Augmented Generation (RAG) Example\n",
        "\n",
        "This notebook demonstrates a simple Retrieval-Augmented Generation (RAG) system using Python. The system combines a retrieval module and a generative model to answer questions based on a small database of documents.\n",
        "\n",
        "## Steps:\n",
        "1. **Document Preparation**: We create a small database with example documents.\n",
        "2. **Retrieval Module**: We use FAISS to find the most similar documents to a given query.\n",
        "3. **Generative Model**: We use GPT-2 to generate an answer based on the retrieved documents.\n",
        "\n",
        "### Instructions:\n",
        "1. Run the code cells step by step to see how the RAG system works.\n",
        "2. Modify the example query to test with different questions."
      ],
      "metadata": {
        "id": "NFyrM4weGZKZ"
      }
    },
    {
      "cell_type": "code",
      "source": [
        "!pip install transformers faiss-cpu"
      ],
      "metadata": {
        "colab": {
          "base_uri": "https://localhost:8080/"
        },
        "id": "76R5fBDhGYR3",
        "outputId": "89e5f08c-1c7b-40b7-c383-33fc3df60709"
      },
      "execution_count": 3,
      "outputs": [
        {
          "output_type": "stream",
          "name": "stdout",
          "text": [
            "Requirement already satisfied: transformers in /usr/local/lib/python3.10/dist-packages (4.41.1)\n",
            "Requirement already satisfied: faiss-cpu in /usr/local/lib/python3.10/dist-packages (1.8.0)\n",
            "Requirement already satisfied: filelock in /usr/local/lib/python3.10/dist-packages (from transformers) (3.14.0)\n",
            "Requirement already satisfied: huggingface-hub<1.0,>=0.23.0 in /usr/local/lib/python3.10/dist-packages (from transformers) (0.23.1)\n",
            "Requirement already satisfied: numpy>=1.17 in /usr/local/lib/python3.10/dist-packages (from transformers) (1.25.2)\n",
            "Requirement already satisfied: packaging>=20.0 in /usr/local/lib/python3.10/dist-packages (from transformers) (24.0)\n",
            "Requirement already satisfied: pyyaml>=5.1 in /usr/local/lib/python3.10/dist-packages (from transformers) (6.0.1)\n",
            "Requirement already satisfied: regex!=2019.12.17 in /usr/local/lib/python3.10/dist-packages (from transformers) (2024.5.15)\n",
            "Requirement already satisfied: requests in /usr/local/lib/python3.10/dist-packages (from transformers) (2.31.0)\n",
            "Requirement already satisfied: tokenizers<0.20,>=0.19 in /usr/local/lib/python3.10/dist-packages (from transformers) (0.19.1)\n",
            "Requirement already satisfied: safetensors>=0.4.1 in /usr/local/lib/python3.10/dist-packages (from transformers) (0.4.3)\n",
            "Requirement already satisfied: tqdm>=4.27 in /usr/local/lib/python3.10/dist-packages (from transformers) (4.66.4)\n",
            "Requirement already satisfied: fsspec>=2023.5.0 in /usr/local/lib/python3.10/dist-packages (from huggingface-hub<1.0,>=0.23.0->transformers) (2023.6.0)\n",
            "Requirement already satisfied: typing-extensions>=3.7.4.3 in /usr/local/lib/python3.10/dist-packages (from huggingface-hub<1.0,>=0.23.0->transformers) (4.11.0)\n",
            "Requirement already satisfied: charset-normalizer<4,>=2 in /usr/local/lib/python3.10/dist-packages (from requests->transformers) (3.3.2)\n",
            "Requirement already satisfied: idna<4,>=2.5 in /usr/local/lib/python3.10/dist-packages (from requests->transformers) (3.7)\n",
            "Requirement already satisfied: urllib3<3,>=1.21.1 in /usr/local/lib/python3.10/dist-packages (from requests->transformers) (2.0.7)\n",
            "Requirement already satisfied: certifi>=2017.4.17 in /usr/local/lib/python3.10/dist-packages (from requests->transformers) (2024.2.2)\n"
          ]
        }
      ]
    },
    {
      "cell_type": "code",
      "execution_count": 4,
      "metadata": {
        "colab": {
          "base_uri": "https://localhost:8080/"
        },
        "id": "5AD9InbGGUwL",
        "outputId": "b415326e-5968-46fa-d38c-12366e03a3fb"
      },
      "outputs": [
        {
          "output_type": "stream",
          "name": "stderr",
          "text": [
            "Truncation was not explicitly activated but `max_length` is provided a specific value, please use `truncation=True` to explicitly truncate examples to max length. Defaulting to 'longest_first' truncation strategy. If you encode pairs of sequences (GLUE-style) with the tokenizer you can select this strategy more precisely by providing a specific strategy to `truncation`.\n",
            "Setting `pad_token_id` to `eos_token_id`:50256 for open-end generation.\n"
          ]
        },
        {
          "output_type": "stream",
          "name": "stdout",
          "text": [
            "Retrieved Documents:\n",
            "- Photosynthesis in plants generally involves the green pigment chlorophyll and generates oxygen as a by-product.\n",
            "- Photosynthesis is a process used by plants and other organisms to convert light energy into chemical energy.\n",
            "- Photosynthesis is essential for life on Earth as it provides the primary source of energy for nearly all organisms.\n",
            "\n",
            "Generated Answer:\n",
            "Question: How does photosynthesis work?\n",
            "Context: Photosynthesis in plants generally involves the green pigment chlorophyll and generates oxygen as a by-product. Photosynthesis is a process used by plants and other organisms to convert light energy into chemical energy. Photosynthesis is essential for life on Earth as it provides the primary source of energy for nearly all organisms.\n",
            "Answer: Light is a source of life and energy, and photosynthesis is necessary to provide for the life to grow and maintain and provide food.\n"
          ]
        }
      ],
      "source": [
        "import faiss\n",
        "import numpy as np\n",
        "from transformers import GPT2LMHeadModel, GPT2Tokenizer, pipeline\n",
        "from sklearn.feature_extraction.text import TfidfVectorizer\n",
        "\n",
        "# Example database of documents\n",
        "documents = [\n",
        "    \"Photosynthesis is a process used by plants and other organisms to convert light energy into chemical energy.\",\n",
        "    \"Photosynthesis in plants generally involves the green pigment chlorophyll and generates oxygen as a by-product.\",\n",
        "    \"The process of photosynthesis occurs in the chloroplasts of plant cells, where sunlight is used to convert carbon dioxide and water into glucose and oxygen.\",\n",
        "    \"Chlorophyll absorbs light most efficiently in the blue portion of the electromagnetic spectrum followed by the red portion.\",\n",
        "    \"Photosynthesis is essential for life on Earth as it provides the primary source of energy for nearly all organisms.\"\n",
        "]\n",
        "\n",
        "# Step 1: Vectorize documents\n",
        "vectorizer = TfidfVectorizer()\n",
        "X = vectorizer.fit_transform(documents)\n",
        "index = faiss.IndexFlatL2(X.shape[1])\n",
        "index.add(X.toarray())\n",
        "\n",
        "# Function to retrieve the most similar documents to a query\n",
        "def retrieve_documents(query, k=3):\n",
        "    query_vec = vectorizer.transform([query]).toarray()\n",
        "    D, I = index.search(query_vec, k)\n",
        "    return [documents[i] for i in I[0]]\n",
        "\n",
        "# Step 2: Load GPT-2 model\n",
        "tokenizer = GPT2Tokenizer.from_pretrained(\"gpt2\")\n",
        "model = GPT2LMHeadModel.from_pretrained(\"gpt2\")\n",
        "generator = pipeline('text-generation', model=model, tokenizer=tokenizer)\n",
        "\n",
        "# Step 3: Generate answer\n",
        "def generate_answer(question, retrieved_docs):\n",
        "    context = \" \".join(retrieved_docs)\n",
        "    input_text = f\"Question: {question}\\nContext: {context}\\nAnswer:\"\n",
        "    generated = generator(input_text, max_length=150, num_return_sequences=1)\n",
        "    return generated[0]['generated_text']\n",
        "\n",
        "# Example query\n",
        "question = \"How does photosynthesis work?\"\n",
        "retrieved_docs = retrieve_documents(question)\n",
        "answer = generate_answer(question, retrieved_docs)\n",
        "\n",
        "# Display results\n",
        "print(\"Retrieved Documents:\")\n",
        "for doc in retrieved_docs:\n",
        "    print(\"-\", doc)\n",
        "print(\"\\nGenerated Answer:\")\n",
        "print(answer)\n"
      ]
    }
  ]
}